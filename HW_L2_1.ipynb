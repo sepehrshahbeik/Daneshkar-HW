{
  "nbformat": 4,
  "nbformat_minor": 0,
  "metadata": {
    "colab": {
      "provenance": [],
      "authorship_tag": "ABX9TyORDs9UJAFhWwzHRj+6RQX8",
      "include_colab_link": true
    },
    "kernelspec": {
      "name": "python3",
      "display_name": "Python 3"
    },
    "language_info": {
      "name": "python"
    }
  },
  "cells": [
    {
      "cell_type": "markdown",
      "metadata": {
        "id": "view-in-github",
        "colab_type": "text"
      },
      "source": [
        "<a href=\"https://colab.research.google.com/github/sepehrshahbeik/Daneshkar-HW/blob/main/HW_L2_1.ipynb\" target=\"_parent\"><img src=\"https://colab.research.google.com/assets/colab-badge.svg\" alt=\"Open In Colab\"/></a>"
      ]
    },
    {
      "cell_type": "markdown",
      "source": [
        "# Q1: چاپ اعداد"
      ],
      "metadata": {
        "id": "wbE9L1Fp3Nkj"
      }
    },
    {
      "cell_type": "code",
      "execution_count": null,
      "metadata": {
        "id": "FF4WyAB6wBpK"
      },
      "outputs": [],
      "source": [
        "num_input = input(\"لطفا یک عدد بزرگتر از 3 وارد کنید: \")\n",
        "\n",
        "if not num_input.isdigit():\n",
        "    print(\"!لطفا فقط عدد صحیح وارد کنید.\")\n",
        "else:\n",
        "    number = int(num_input)\n",
        "\n",
        "    if number <= 3:\n",
        "        print(\"!عدد باید بزرگتر از 3 باشد.\")\n",
        "    else:\n",
        "        if number % 2 == 1:\n",
        "            print(f\"اعداد فرد از 1 تا {number}:\")\n",
        "            for i in range(1, number + 1, 2):\n",
        "                print(i, end=\" \")\n",
        "        else:\n",
        "            print(f\"اعداد زوج از 2 تا {number}:\")\n",
        "            for i in range(2, number + 1, 2):\n",
        "                print(i, end=\" \")"
      ]
    },
    {
      "cell_type": "markdown",
      "source": [
        "# Q2: شمارنده حروف صدادار"
      ],
      "metadata": {
        "id": "GIy6SYL63VJg"
      }
    },
    {
      "cell_type": "code",
      "source": [
        "text = input(\"لطفا یک متن دلخواه وارد کنید: \")\n",
        "\n",
        "vowels = \"aeiou\"\n",
        "\n",
        "# تبدیل رشته به حروف کوچک\n",
        "text_lower = text.lower()\n",
        "\n",
        "count = 0\n",
        "for char in text_lower:\n",
        "    if char in vowels:\n",
        "        count += 1\n",
        "\n",
        "print(f\"تعداد حروف صدادار در رشته: {count}\")"
      ],
      "metadata": {
        "id": "3_Z3wJ7cydPD"
      },
      "execution_count": null,
      "outputs": []
    },
    {
      "cell_type": "markdown",
      "source": [
        "# Q3: ایجاد دیکشنری"
      ],
      "metadata": {
        "id": "J7lKLhwM3diA"
      }
    },
    {
      "cell_type": "code",
      "source": [
        "text = input(\"لطفا یک جمله وارد کنید: \")\n",
        "\n",
        "text_lower = text.lower()\n",
        "\n",
        "words = text_lower.split()\n",
        "\n",
        "# دیکشنری برای ذخیره تعداد هر کلمه\n",
        "word_count = {}\n",
        "\n",
        "for word in words:\n",
        "    if word in word_count:\n",
        "        word_count[word] += 1\n",
        "    else:\n",
        "        word_count[word] = 1\n",
        "\n",
        "print(\"فراوانی کلمات:\")\n",
        "print(word_count)"
      ],
      "metadata": {
        "id": "N6f4OZxzygw7"
      },
      "execution_count": null,
      "outputs": []
    },
    {
      "cell_type": "markdown",
      "source": [
        "# Q4: محاسبه معدل"
      ],
      "metadata": {
        "id": "OUg9yx1j3jYg"
      }
    },
    {
      "cell_type": "code",
      "source": [
        "import time\n",
        "import sys\n",
        "\n",
        "n = int(input(\"تعداد دروس را وارد کنید: \"))\n",
        "\n",
        "grades = []\n",
        "for i in range(n):\n",
        "    grade = float(input(f\"نمره درس {i+1} را وارد کنید: \"))\n",
        "    if grade > 20:\n",
        "        print(\"Grade Invalid\")\n",
        "        time.sleep(1) # برای قسمتی از تمرین که گفته شد: پیام \"Grade Invalid \"را به کاربر نمایش داده و ...\n",
        "        sys.exit()  # بستن برنامه\n",
        "    grades.append(grade)\n",
        "\n",
        "avg = sum(grades) / len(grades)\n",
        "\n",
        "# تبدیل معدل به حرف\n",
        "if 18 <= avg <= 20:\n",
        "    result = \"A\"\n",
        "elif 15 <= avg < 18:\n",
        "    result = \"B\"\n",
        "elif 12 <= avg < 15:\n",
        "    result = \"C\"\n",
        "else:\n",
        "    result = \"F\"\n",
        "\n",
        "print(\"معدل شما: \", result)"
      ],
      "metadata": {
        "id": "-tYqOqntzAp6"
      },
      "execution_count": null,
      "outputs": []
    },
    {
      "cell_type": "markdown",
      "source": [
        "# Q5: معکوس کردن جمله"
      ],
      "metadata": {
        "id": "jUaE19403qIn"
      }
    },
    {
      "cell_type": "code",
      "source": [
        "sentence = input(\"یک جمله وارد کنید: \")\n",
        "\n",
        "words = sentence.split()\n",
        "\n",
        "reversed_words = words[::-1] #با reverse() هم میشد\n",
        "\n",
        "reversed_sentence = \" \".join(reversed_words)\n",
        "\n",
        "print(\"جمله معکوس:\")\n",
        "print(reversed_sentence)"
      ],
      "metadata": {
        "id": "RA8XBrGGzNwk"
      },
      "execution_count": null,
      "outputs": []
    }
  ]
}